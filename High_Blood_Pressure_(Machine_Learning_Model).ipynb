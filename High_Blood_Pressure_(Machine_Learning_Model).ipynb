{
  "nbformat": 4,
  "nbformat_minor": 0,
  "metadata": {
    "colab": {
      "provenance": [],
      "authorship_tag": "ABX9TyP5g0bSG9svnkP049GMKnds",
      "include_colab_link": true
    },
    "kernelspec": {
      "name": "python3",
      "display_name": "Python 3"
    },
    "language_info": {
      "name": "python"
    }
  },
  "cells": [
    {
      "cell_type": "markdown",
      "metadata": {
        "id": "view-in-github",
        "colab_type": "text"
      },
      "source": [
        "<a href=\"https://colab.research.google.com/github/faique1234/High-Blood-Pressure-Machine-Learning-Model-/blob/main/High_Blood_Pressure_(Machine_Learning_Model).ipynb\" target=\"_parent\"><img src=\"https://colab.research.google.com/assets/colab-badge.svg\" alt=\"Open In Colab\"/></a>"
      ]
    },
    {
      "cell_type": "markdown",
      "source": [
        "**Muhammad Faique Bin Shahid**"
      ],
      "metadata": {
        "id": "akhepe5bP5xx"
      }
    },
    {
      "cell_type": "code",
      "execution_count": null,
      "metadata": {
        "colab": {
          "base_uri": "https://localhost:8080/"
        },
        "id": "q0qtsor8NOQW",
        "outputId": "460a1f8f-53ba-46da-8a5a-092d530cd9da"
      },
      "outputs": [
        {
          "output_type": "stream",
          "name": "stdout",
          "text": [
            "Accuracy: 0.5466666666666666\n",
            "Precision: 0.26785714285714285\n",
            "Recall: 0.35714285714285715\n",
            "F1 Score: 0.30612244897959184\n"
          ]
        },
        {
          "output_type": "execute_result",
          "data": {
            "text/plain": [
              "['highbp_features.pkl']"
            ]
          },
          "metadata": {},
          "execution_count": 4
        }
      ],
      "source": [
        "# Step 1: Import Libraries\n",
        "import pandas as pd\n",
        "import numpy as np\n",
        "import seaborn as sns\n",
        "import matplotlib.pyplot as plt\n",
        "from sklearn.model_selection import train_test_split\n",
        "from sklearn.ensemble import RandomForestClassifier\n",
        "from sklearn.preprocessing import StandardScaler\n",
        "from sklearn.metrics import accuracy_score, precision_score, recall_score, f1_score\n",
        "from imblearn.over_sampling import RandomOverSampler\n",
        "import joblib\n",
        "\n",
        "# Step 2: Create Sample Dataset (Replace with your CSV if available)\n",
        "np.random.seed(42)\n",
        "df = pd.DataFrame({\n",
        "    'Age': np.random.randint(20, 70, 500),\n",
        "    'BMI': np.random.normal(27, 5, 500),\n",
        "    'Cholesterol': np.random.choice([150, 180, 200, 220, 250], 500),\n",
        "    'Sodium': np.random.choice([1200, 1500, 1800, 2000, 2300], 500),\n",
        "    'PhysicalActivity': np.random.choice([0, 1], 500),\n",
        "    'Smoker': np.random.choice([0, 1], 500),\n",
        "    'HighBP': np.random.choice([0, 1], 500, p=[0.65, 0.35])\n",
        "})\n",
        "\n",
        "# Step 3: Preprocessing\n",
        "X = df.drop(\"HighBP\", axis=1)\n",
        "y = df[\"HighBP\"]\n",
        "scaler = StandardScaler()\n",
        "X_scaled = scaler.fit_transform(X)\n",
        "\n",
        "# Step 4: Split and Balance\n",
        "x_train, x_test, y_train, y_test = train_test_split(X_scaled, y, test_size=0.3, random_state=42)\n",
        "ros = RandomOverSampler(random_state=42)\n",
        "x_train_resampled, y_train_resampled = ros.fit_resample(x_train, y_train)\n",
        "\n",
        "# Step 5: Train Random Forest Model\n",
        "model = RandomForestClassifier(random_state=42)\n",
        "model.fit(x_train_resampled, y_train_resampled)\n",
        "y_pred = model.predict(x_test)\n",
        "\n",
        "# Step 6: Evaluation\n",
        "accuracy = accuracy_score(y_test, y_pred)\n",
        "precision = precision_score(y_test, y_pred)\n",
        "recall = recall_score(y_test, y_pred)\n",
        "f1 = f1_score(y_test, y_pred)\n",
        "\n",
        "print(\"Accuracy:\", accuracy)\n",
        "print(\"Precision:\", precision)\n",
        "print(\"Recall:\", recall)\n",
        "print(\"F1 Score:\", f1)\n",
        "\n",
        "# Step 7: Save Model, Scaler, and Features\n",
        "joblib.dump(model, \"random_forest_HighBP_model.pkl\")\n",
        "joblib.dump(scaler, \"highbp_scaler.pkl\")\n",
        "joblib.dump(X.columns.tolist(), \"highbp_features.pkl\")\n"
      ]
    },
    {
      "cell_type": "code",
      "source": [
        "# Get class counts after resampling\n",
        "class_counts = pd.Series(y_train_resampled).value_counts()\n",
        "class_percent = pd.Series(y_train_resampled).value_counts(normalize=True) * 100\n",
        "\n",
        "# Create bar plot\n",
        "import matplotlib.pyplot as plt\n",
        "import seaborn as sns\n",
        "\n",
        "plt.figure(figsize=(8, 5))\n",
        "sns.set(style=\"whitegrid\")\n",
        "ax = sns.barplot(x=class_counts.index, y=class_counts.values, palette=[\"#B80000\", \"#00008B\"])\n",
        "\n",
        "# Add labels and title\n",
        "plt.title(\"Distribution of HighBP Outcomes After Resampling\")\n",
        "plt.xlabel(\"High Blood Pressure (0 = No, 1 = Yes)\")\n",
        "plt.ylabel(\"Count\")\n",
        "\n",
        "# Show percentages on top of bars\n",
        "for i, count in enumerate(class_counts):\n",
        "    plt.text(i, count + 5, f\"{class_percent[i]:.1f}%\", ha='center', va='bottom')\n",
        "\n",
        "plt.tight_layout()\n",
        "plt.show()\n"
      ],
      "metadata": {
        "colab": {
          "base_uri": "https://localhost:8080/",
          "height": 591
        },
        "id": "IsnDkYmdPuW5",
        "outputId": "32524a99-db2c-46e5-a158-9dcd6c8aa18a"
      },
      "execution_count": null,
      "outputs": [
        {
          "output_type": "stream",
          "name": "stderr",
          "text": [
            "/tmp/ipython-input-5-548309675.py:11: FutureWarning: \n",
            "\n",
            "Passing `palette` without assigning `hue` is deprecated and will be removed in v0.14.0. Assign the `x` variable to `hue` and set `legend=False` for the same effect.\n",
            "\n",
            "  ax = sns.barplot(x=class_counts.index, y=class_counts.values, palette=[\"#B80000\", \"#00008B\"])\n"
          ]
        },
        {
          "output_type": "display_data",
          "data": {
            "text/plain": [
              "<Figure size 800x500 with 1 Axes>"
            ],
            "image/png": "[encoded data removed]"
          },
          "metadata": {}
        }
      ]
    },
    {
      "cell_type": "code",
      "source": [],
      "metadata": {
        "id": "2DkQWOKpP217"
      },
      "execution_count": null,
      "outputs": []
    },
    {
      "cell_type": "markdown",
      "source": [],
      "metadata": {
        "id": "6NHfPcURP4uR"
      }
    }
  ]
}